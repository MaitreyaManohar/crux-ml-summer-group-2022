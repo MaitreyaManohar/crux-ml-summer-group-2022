{
  "cells": [
    {
      "cell_type": "markdown",
      "metadata": {
        "id": "hzPo-7qFgxNZ"
      },
      "source": [
        "# Data Visualisation Assignment\n",
        "\n",
        "Total points: 80 + 20 (5 x 4) for conciseness\n",
        "\n",
        "Total number of questions: 3 (45 + 30 + 25)\n",
        "\n",
        "Dataset: [Titanic](https://www.kaggle.com/competitions/titanic)\n",
        "\n",
        "\n",
        "In this assignment, we'll be using the help of data visualization to help us deal with missing values. Normally, you would think of a method to fill the `NaN` values, visualize it graphically to see if  your method is feasable, and then implement it.\n",
        "\n",
        "Here however, since this will be the first time many people are doing this, I'll be giving a hint to the method, from which you should figure it out, implement it and then visualize only to justify your method.\n",
        "\n",
        "\n",
        "**Note:** for every subquestion, use a copy of the `titanic` dataframe and not the original."
      ]
    },
    {
      "cell_type": "markdown",
      "metadata": {},
      "source": [
        "##  Data Dictionary:\n",
        "\n",
        "- `PassengerId`, `Name`, `Sex`, `Age` and `Fare` are self-explanatory\n",
        "- `Survived` is the variable of whether the passenger survived or not:\n",
        "  - `1`: Survived\n",
        "  - `0`: Didn't survive\n",
        "- `Pclass` (Passenger Class) is the ticket class booked  by the passenger and it reflects the socio-economic status of the passenger:\n",
        "  - `1`: Upper Class\n",
        "  - `2`: Middle Class\n",
        "  - `3`: Lower Class\n",
        "- `SibSp` is the total number of the passengers' siblings and spouse aboard the ship\n",
        "- `Parch` is the total number of the passengers' parents and children aboard the ship\n",
        "- `Ticket` is the ticket number of the passenger\n",
        "- `Cabin` is the cabin number of the passenger\n",
        "- `Embarked` is port of embarkation (boarding):\n",
        "  - `C`: Cherbourg\n",
        "  - `Q`: Queenstown\n",
        "  - `S`: Southampton\n"
      ]
    },
    {
      "cell_type": "code",
      "execution_count": 1,
      "metadata": {},
      "outputs": [],
      "source": [
        "# imports \n",
        "\n",
        "import pandas as pd\n"
      ]
    },
    {
      "cell_type": "code",
      "execution_count": 2,
      "metadata": {
        "colab": {
          "base_uri": "https://localhost:8080/",
          "height": 250
        },
        "id": "aWqf1SOqgZ7q",
        "outputId": "86080ad5-d23f-4dad-8e51-c23802c362ae"
      },
      "outputs": [
        {
          "data": {
            "text/html": [
              "<div>\n",
              "<style scoped>\n",
              "    .dataframe tbody tr th:only-of-type {\n",
              "        vertical-align: middle;\n",
              "    }\n",
              "\n",
              "    .dataframe tbody tr th {\n",
              "        vertical-align: top;\n",
              "    }\n",
              "\n",
              "    .dataframe thead th {\n",
              "        text-align: right;\n",
              "    }\n",
              "</style>\n",
              "<table border=\"1\" class=\"dataframe\">\n",
              "  <thead>\n",
              "    <tr style=\"text-align: right;\">\n",
              "      <th></th>\n",
              "      <th>PassengerId</th>\n",
              "      <th>Survived</th>\n",
              "      <th>Pclass</th>\n",
              "      <th>Name</th>\n",
              "      <th>Sex</th>\n",
              "      <th>Age</th>\n",
              "      <th>SibSp</th>\n",
              "      <th>Parch</th>\n",
              "      <th>Ticket</th>\n",
              "      <th>Fare</th>\n",
              "      <th>Cabin</th>\n",
              "      <th>Embarked</th>\n",
              "    </tr>\n",
              "  </thead>\n",
              "  <tbody>\n",
              "    <tr>\n",
              "      <th>0</th>\n",
              "      <td>1</td>\n",
              "      <td>0</td>\n",
              "      <td>3</td>\n",
              "      <td>Braund, Mr. Owen Harris</td>\n",
              "      <td>male</td>\n",
              "      <td>22.0</td>\n",
              "      <td>1</td>\n",
              "      <td>0</td>\n",
              "      <td>A/5 21171</td>\n",
              "      <td>7.2500</td>\n",
              "      <td>NaN</td>\n",
              "      <td>S</td>\n",
              "    </tr>\n",
              "    <tr>\n",
              "      <th>1</th>\n",
              "      <td>2</td>\n",
              "      <td>1</td>\n",
              "      <td>1</td>\n",
              "      <td>Cumings, Mrs. John Bradley (Florence Briggs Th...</td>\n",
              "      <td>female</td>\n",
              "      <td>38.0</td>\n",
              "      <td>1</td>\n",
              "      <td>0</td>\n",
              "      <td>PC 17599</td>\n",
              "      <td>71.2833</td>\n",
              "      <td>C85</td>\n",
              "      <td>C</td>\n",
              "    </tr>\n",
              "    <tr>\n",
              "      <th>2</th>\n",
              "      <td>3</td>\n",
              "      <td>1</td>\n",
              "      <td>3</td>\n",
              "      <td>Heikkinen, Miss. Laina</td>\n",
              "      <td>female</td>\n",
              "      <td>26.0</td>\n",
              "      <td>0</td>\n",
              "      <td>0</td>\n",
              "      <td>STON/O2. 3101282</td>\n",
              "      <td>7.9250</td>\n",
              "      <td>NaN</td>\n",
              "      <td>S</td>\n",
              "    </tr>\n",
              "    <tr>\n",
              "      <th>3</th>\n",
              "      <td>4</td>\n",
              "      <td>1</td>\n",
              "      <td>1</td>\n",
              "      <td>Futrelle, Mrs. Jacques Heath (Lily May Peel)</td>\n",
              "      <td>female</td>\n",
              "      <td>35.0</td>\n",
              "      <td>1</td>\n",
              "      <td>0</td>\n",
              "      <td>113803</td>\n",
              "      <td>53.1000</td>\n",
              "      <td>C123</td>\n",
              "      <td>S</td>\n",
              "    </tr>\n",
              "    <tr>\n",
              "      <th>4</th>\n",
              "      <td>5</td>\n",
              "      <td>0</td>\n",
              "      <td>3</td>\n",
              "      <td>Allen, Mr. William Henry</td>\n",
              "      <td>male</td>\n",
              "      <td>35.0</td>\n",
              "      <td>0</td>\n",
              "      <td>0</td>\n",
              "      <td>373450</td>\n",
              "      <td>8.0500</td>\n",
              "      <td>NaN</td>\n",
              "      <td>S</td>\n",
              "    </tr>\n",
              "  </tbody>\n",
              "</table>\n",
              "</div>"
            ],
            "text/plain": [
              "   PassengerId  Survived  Pclass  \\\n",
              "0            1         0       3   \n",
              "1            2         1       1   \n",
              "2            3         1       3   \n",
              "3            4         1       1   \n",
              "4            5         0       3   \n",
              "\n",
              "                                                Name     Sex   Age  SibSp  \\\n",
              "0                            Braund, Mr. Owen Harris    male  22.0      1   \n",
              "1  Cumings, Mrs. John Bradley (Florence Briggs Th...  female  38.0      1   \n",
              "2                             Heikkinen, Miss. Laina  female  26.0      0   \n",
              "3       Futrelle, Mrs. Jacques Heath (Lily May Peel)  female  35.0      1   \n",
              "4                           Allen, Mr. William Henry    male  35.0      0   \n",
              "\n",
              "   Parch            Ticket     Fare Cabin Embarked  \n",
              "0      0         A/5 21171   7.2500   NaN        S  \n",
              "1      0          PC 17599  71.2833   C85        C  \n",
              "2      0  STON/O2. 3101282   7.9250   NaN        S  \n",
              "3      0            113803  53.1000  C123        S  \n",
              "4      0            373450   8.0500   NaN        S  "
            ]
          },
          "execution_count": 2,
          "metadata": {},
          "output_type": "execute_result"
        }
      ],
      "source": [
        "titanic = pd.read_csv(\"titanic.csv\")\n",
        "titanic.head()"
      ]
    },
    {
      "cell_type": "markdown",
      "metadata": {
        "id": "97Td2j6pnOIA"
      },
      "source": [
        "### Dealing with missing values\n",
        "\n",
        "We first find out which columns have missing values, and then deal with them one by one"
      ]
    },
    {
      "cell_type": "code",
      "execution_count": 3,
      "metadata": {
        "id": "yFRkFgjAh26n"
      },
      "outputs": [],
      "source": [
        "# function to help you keep track of missing values in a dataframe\n",
        "def count_na(df = titanic):\n",
        "  series = df.isna().sum()\n",
        "  return series[series > 0]"
      ]
    },
    {
      "cell_type": "code",
      "execution_count": 4,
      "metadata": {
        "colab": {
          "base_uri": "https://localhost:8080/"
        },
        "id": "7HGkJWegwR7m",
        "outputId": "7a778d0f-8520-463f-970d-fa3a666c4c86"
      },
      "outputs": [
        {
          "data": {
            "text/plain": [
              "Age         177\n",
              "Cabin       687\n",
              "Embarked      2\n",
              "dtype: int64"
            ]
          },
          "execution_count": 4,
          "metadata": {},
          "output_type": "execute_result"
        }
      ],
      "source": [
        "count_na()"
      ]
    },
    {
      "cell_type": "markdown",
      "metadata": {
        "id": "z4asUOjpxHAR"
      },
      "source": [
        "#### Embarked\n",
        "\n",
        "we start with embarked as it has only 2 missing values."
      ]
    },
    {
      "cell_type": "code",
      "execution_count": 5,
      "metadata": {
        "colab": {
          "base_uri": "https://localhost:8080/",
          "height": 112
        },
        "id": "Qsd2qgxzmtw4",
        "outputId": "434c4f85-9d26-4d5d-fb29-2d986fcf33b2"
      },
      "outputs": [
        {
          "data": {
            "text/html": [
              "<div>\n",
              "<style scoped>\n",
              "    .dataframe tbody tr th:only-of-type {\n",
              "        vertical-align: middle;\n",
              "    }\n",
              "\n",
              "    .dataframe tbody tr th {\n",
              "        vertical-align: top;\n",
              "    }\n",
              "\n",
              "    .dataframe thead th {\n",
              "        text-align: right;\n",
              "    }\n",
              "</style>\n",
              "<table border=\"1\" class=\"dataframe\">\n",
              "  <thead>\n",
              "    <tr style=\"text-align: right;\">\n",
              "      <th></th>\n",
              "      <th>PassengerId</th>\n",
              "      <th>Survived</th>\n",
              "      <th>Pclass</th>\n",
              "      <th>Name</th>\n",
              "      <th>Sex</th>\n",
              "      <th>Age</th>\n",
              "      <th>SibSp</th>\n",
              "      <th>Parch</th>\n",
              "      <th>Ticket</th>\n",
              "      <th>Fare</th>\n",
              "      <th>Cabin</th>\n",
              "      <th>Embarked</th>\n",
              "    </tr>\n",
              "  </thead>\n",
              "  <tbody>\n",
              "    <tr>\n",
              "      <th>61</th>\n",
              "      <td>62</td>\n",
              "      <td>1</td>\n",
              "      <td>1</td>\n",
              "      <td>Icard, Miss. Amelie</td>\n",
              "      <td>female</td>\n",
              "      <td>38.0</td>\n",
              "      <td>0</td>\n",
              "      <td>0</td>\n",
              "      <td>113572</td>\n",
              "      <td>80.0</td>\n",
              "      <td>B28</td>\n",
              "      <td>NaN</td>\n",
              "    </tr>\n",
              "    <tr>\n",
              "      <th>829</th>\n",
              "      <td>830</td>\n",
              "      <td>1</td>\n",
              "      <td>1</td>\n",
              "      <td>Stone, Mrs. George Nelson (Martha Evelyn)</td>\n",
              "      <td>female</td>\n",
              "      <td>62.0</td>\n",
              "      <td>0</td>\n",
              "      <td>0</td>\n",
              "      <td>113572</td>\n",
              "      <td>80.0</td>\n",
              "      <td>B28</td>\n",
              "      <td>NaN</td>\n",
              "    </tr>\n",
              "  </tbody>\n",
              "</table>\n",
              "</div>"
            ],
            "text/plain": [
              "     PassengerId  Survived  Pclass                                       Name  \\\n",
              "61            62         1       1                        Icard, Miss. Amelie   \n",
              "829          830         1       1  Stone, Mrs. George Nelson (Martha Evelyn)   \n",
              "\n",
              "        Sex   Age  SibSp  Parch  Ticket  Fare Cabin Embarked  \n",
              "61   female  38.0      0      0  113572  80.0   B28      NaN  \n",
              "829  female  62.0      0      0  113572  80.0   B28      NaN  "
            ]
          },
          "execution_count": 5,
          "metadata": {},
          "output_type": "execute_result"
        }
      ],
      "source": [
        "titanic[titanic[\"Embarked\"].isna()]"
      ]
    },
    {
      "cell_type": "markdown",
      "metadata": {
        "id": "0Io4yqS3py5-"
      },
      "source": [
        "- **Method 1:** We find out where place most people embarked from and fill in the missing values with the most common one.\n",
        "\n",
        "This makes sense, but how would we show statistical evidence in a report?\n",
        "\n",
        "----\n",
        "\n",
        "Q1.1. Write a function that given a dataframe and column, visualizes the absolute and relative frequencies of the various values in the column (not including `NaN`) (10)\n",
        "\n",
        "Figure shoud be made up of two subplots. (optional if you can't do it) (2)\n",
        "\n",
        "Using this function, visualize and find out the confidence with which you can fill in the missing values in the `Embarked` column with its mode. (8)\n",
        "\n",
        "----\n"
      ]
    },
    {
      "cell_type": "markdown",
      "metadata": {},
      "source": [
        "Q1.2. Find another method to fill in the missing values in the `Embarked` column. (10)\n",
        "\n",
        "Hint: When you book tickets for a train/plane with your friends together, you get assigned berths/seats next to each other/nearby.\n",
        "\n",
        "In this question, consider *nearby* to be +- 5 cabins in the same section of the ship.\n",
        "\n",
        "Again, justify the confidence of your answer, with the help of the function defined in 1.1 (5)\n",
        "\n",
        "----"
      ]
    },
    {
      "cell_type": "markdown",
      "metadata": {},
      "source": [
        "#### Cabin\n",
        "\n",
        "The majority of the `Cabin` column is `NaN`. Does that mean we just drop the column?\n",
        "We can, but we'll be losing data. Since we'll be making most of the data here artificially (i.e., not collected etc.), we need a very strong reason when filling these values.\n",
        "\n",
        "----\n",
        "\n",
        "Q2. Find a method to fill in the missing values in the `Cabin` column. (15)\n",
        "\n",
        "Hint: It is impossible to to find/fill exactly where the passenger resided in on the ship. But if we drop the numbers in the cabin and retain only the letter, we now can classify the passengers into sections of the ship. Which ***categorical*** column  from our dataframe would be best suited for classifying passengers into different sections of the ship?\n",
        "\n",
        "Visualize the density of the various categories in each section of the ship, using  \n",
        "[stacked bar charts](https://study.com/academy/lesson/what-is-a-stacked-bar-chart.html.) to justify how you are filling in the missing values. (10)\n",
        "\n",
        "----"
      ]
    },
    {
      "cell_type": "markdown",
      "metadata": {},
      "source": [
        "#### Age\n",
        "\n",
        "Again, like `Cabin`, `Age` isn't a categorical column, so we will need to think before just filling the missing value with a statistic like mode. \n",
        "\n",
        "Q3. Find a method to fill in the missing values in the `Age` column, increasing the confidence with which we can choose the correct value by grouping data by the `Sex` of the passenger. (10)\n",
        "\n",
        "Choose one between mean, median and mode of these grouped value for each passenger depending on their sex and justify the same graphically. (10)"
      ]
    }
  ],
  "metadata": {
    "colab": {
      "name": "Data Exploration Excersise.ipynb",
      "provenance": []
    },
    "kernelspec": {
      "display_name": "Python 3.9.12 ('crux-ml')",
      "language": "python",
      "name": "python3"
    },
    "language_info": {
      "codemirror_mode": {
        "name": "ipython",
        "version": 3
      },
      "file_extension": ".py",
      "mimetype": "text/x-python",
      "name": "python",
      "nbconvert_exporter": "python",
      "pygments_lexer": "ipython3",
      "version": "3.9.12"
    },
    "vscode": {
      "interpreter": {
        "hash": "93ce321e497d6f33a11c701f4ef67dc117e82f59d8dd2399fdfff7429eca93d5"
      }
    }
  },
  "nbformat": 4,
  "nbformat_minor": 0
}
